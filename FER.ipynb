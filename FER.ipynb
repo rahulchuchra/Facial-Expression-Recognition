{
  "cells": [
    {
      "cell_type": "markdown",
      "metadata": {
        "id": "view-in-github",
        "colab_type": "text"
      },
      "source": [
        "<a href=\"https://colab.research.google.com/github/rahulchuchra/Facial-Expression-Recognition/blob/main/FER.ipynb\" target=\"_parent\"><img src=\"https://colab.research.google.com/assets/colab-badge.svg\" alt=\"Open In Colab\"/></a>"
      ]
    },
    {
      "cell_type": "code",
      "execution_count": null,
      "metadata": {
        "id": "gJsU4_ErH6CX"
      },
      "outputs": [],
      "source": [
        "!pip install opendatasets --upgrade --quiet"
      ]
    },
    {
      "cell_type": "code",
      "execution_count": null,
      "metadata": {
        "id": "pV8aW4knH-1l"
      },
      "outputs": [],
      "source": [
        "import opendatasets as od"
      ]
    },
    {
      "cell_type": "code",
      "execution_count": null,
      "metadata": {
        "colab": {
          "base_uri": "https://localhost:8080/"
        },
        "id": "YzU7OovwH_gS",
        "outputId": "c0f48a9e-a9e0-4788-e2c2-5bcc287ec407"
      },
      "outputs": [
        {
          "name": "stdout",
          "output_type": "stream",
          "text": [
            "Please provide your Kaggle credentials to download this dataset. Learn more: http://bit.ly/kaggle-creds\n",
            "Your Kaggle username: rahulchuchra\n",
            "Your Kaggle Key: ··········\n",
            "Downloading fer2013.zip to ./fer2013\n"
          ]
        },
        {
          "name": "stderr",
          "output_type": "stream",
          "text": [
            "100%|██████████| 60.3M/60.3M [00:00<00:00, 208MB/s]\n"
          ]
        },
        {
          "name": "stdout",
          "output_type": "stream",
          "text": [
            "\n"
          ]
        }
      ],
      "source": [
        "od.download('https://www.kaggle.com/datasets/msambare/fer2013')"
      ]
    },
    {
      "cell_type": "markdown",
      "metadata": {
        "id": "dTv0TgR8H2I6"
      },
      "source": [
        "## IMPORTING LIBRARIES and Defining our directories where files are stored"
      ]
    },
    {
      "cell_type": "code",
      "execution_count": null,
      "metadata": {
        "id": "VP5WgaNxH2JE"
      },
      "outputs": [],
      "source": [
        "import pandas as pd\n",
        "import numpy as np\n",
        "import os\n",
        "\n",
        "import matplotlib.pyplot as plt\n",
        "import seaborn as sns"
      ]
    },
    {
      "cell_type": "code",
      "execution_count": null,
      "metadata": {
        "colab": {
          "base_uri": "https://localhost:8080/"
        },
        "id": "G9vgdsDPH2JF",
        "outputId": "1fd5ae26-9faa-4ad5-c1ed-2209406bdb71"
      },
      "outputs": [
        {
          "name": "stdout",
          "output_type": "stream",
          "text": [
            "Looking in indexes: https://pypi.org/simple, https://us-python.pkg.dev/colab-wheels/public/simple/\n",
            "Requirement already satisfied: keras in /usr/local/lib/python3.7/dist-packages (2.8.0)\n"
          ]
        }
      ],
      "source": [
        "!pip install keras"
      ]
    },
    {
      "cell_type": "code",
      "execution_count": null,
      "metadata": {
        "id": "Bb4geh3jH2JG"
      },
      "outputs": [],
      "source": [
        "import tensorflow as tf\n",
        "import keras"
      ]
    },
    {
      "cell_type": "code",
      "execution_count": null,
      "metadata": {
        "id": "owj_LIYZH2JG"
      },
      "outputs": [],
      "source": [
        "\n",
        "train_dir = '/content/fer2013/train/'\n",
        "test_dir = '/content/fer2013/test/'"
      ]
    },
    {
      "cell_type": "code",
      "execution_count": null,
      "metadata": {
        "id": "_ttq1P5HH2JH"
      },
      "outputs": [],
      "source": [
        "row=48\n",
        "col=48\n",
        "classes = 7"
      ]
    },
    {
      "cell_type": "markdown",
      "metadata": {
        "id": "qnwNMw0LH2JH"
      },
      "source": [
        "### COUNT EXPRESSION FUNCTION TO STORE NO. OF IMAGES IN A EXPRESSION FOLDER"
      ]
    },
    {
      "cell_type": "code",
      "execution_count": null,
      "metadata": {
        "id": "nAGoV0dwH2JH"
      },
      "outputs": [],
      "source": [
        "def count_expression(path,set_):\n",
        "    dict_={}\n",
        "    for expression in os.listdir(path):\n",
        "        dir_ = path + expression\n",
        "        dict_[expression]=len(os.listdir(dir_))\n",
        "\n",
        "    df = pd.DataFrame(dict_,index=[set_])\n",
        "    return df"
      ]
    },
    {
      "cell_type": "code",
      "execution_count": null,
      "metadata": {
        "colab": {
          "base_uri": "https://localhost:8080/"
        },
        "id": "30siYvi2H2JI",
        "outputId": "1ecc0bf7-3166-4980-82a6-afffeb8c2a10"
      },
      "outputs": [
        {
          "name": "stdout",
          "output_type": "stream",
          "text": [
            "             happy  angry  neutral  disgust   sad  surprise  fear\n",
            "train_count   7215   3995     4965      436  4830      3171  4097\n"
          ]
        }
      ],
      "source": [
        "train_count=count_expression(train_dir,'train_count')\n",
        "print(train_count)"
      ]
    },
    {
      "cell_type": "code",
      "execution_count": null,
      "metadata": {
        "colab": {
          "base_uri": "https://localhost:8080/"
        },
        "id": "byS9TMK4H2JI",
        "outputId": "2b9c0ee0-933a-4cb2-a2a4-791a1e87e1ac"
      },
      "outputs": [
        {
          "name": "stdout",
          "output_type": "stream",
          "text": [
            "      happy  angry  neutral  disgust   sad  surprise  fear\n",
            "test   1774    958     1233      111  1247       831  1024\n"
          ]
        }
      ],
      "source": [
        "test_count=count_expression(test_dir,'test')\n",
        "print(test_count)"
      ]
    },
    {
      "cell_type": "code",
      "execution_count": null,
      "metadata": {
        "colab": {
          "base_uri": "https://localhost:8080/",
          "height": 329
        },
        "id": "_M0o96GlH2JI",
        "outputId": "7a42ce48-7edc-415f-e07f-2703d11eaf86"
      },
      "outputs": [
        {
          "data": {
            "text/plain": [
              "Text(0.5, 1.0, 'Plot of number of images in train dataset')"
            ]
          },
          "execution_count": 15,
          "metadata": {},
          "output_type": "execute_result"
        },
        {
          "data": {
            "image/png": "[encoded data removed]",
            "text/plain": [
              "<Figure size 432x288 with 1 Axes>"
            ]
          },
          "metadata": {},
          "output_type": "display_data"
        }
      ],
      "source": [
        "train_count.transpose().plot(kind = \"bar\")\n",
        "plt.title('Plot of number of images in train dataset')"
      ]
    },
    {
      "cell_type": "code",
      "execution_count": null,
      "metadata": {
        "colab": {
          "base_uri": "https://localhost:8080/",
          "height": 329
        },
        "id": "V0QH7j-UH2JJ",
        "outputId": "7a7dc40a-115f-4f42-ead8-12734f84b5cf"
      },
      "outputs": [
        {
          "data": {
            "text/plain": [
              "Text(0.5, 1.0, 'Plot of number of images in test dataset')"
            ]
          },
          "execution_count": 16,
          "metadata": {},
          "output_type": "execute_result"
        },
        {
          "data": {
            "image/png": "[encoded data removed]",
            "text/plain": [
              "<Figure size 432x288 with 1 Axes>"
            ]
          },
          "metadata": {},
          "output_type": "display_data"
        }
      ],
      "source": [
        "test_count.transpose().plot(kind = \"bar\")\n",
        "plt.title('Plot of number of images in test dataset')"
      ]
    },
    {
      "cell_type": "code",
      "execution_count": null,
      "metadata": {
        "colab": {
          "base_uri": "https://localhost:8080/",
          "height": 116
        },
        "id": "tq5cqRpqH2JJ",
        "outputId": "422d9173-c7fd-4b58-f2c6-c3689080a3f4"
      },
      "outputs": [
        {
          "data": {
            "image/png": "[encoded data removed]",
            "text/plain": [
              "<Figure size 1008x1584 with 7 Axes>"
            ]
          },
          "metadata": {},
          "output_type": "display_data"
        }
      ],
      "source": [
        "plt.figure(figsize=(14,22))\n",
        "i = 1\n",
        "for expression in os.listdir(train_dir):\n",
        "    img = keras.preprocessing.image.load_img((train_dir + expression +'/'+ os.listdir(train_dir + expression)[1]))\n",
        "    plt.subplot(1,7,i)\n",
        "    plt.imshow(img)\n",
        "    plt.title(expression)\n",
        "    plt.axis('off')\n",
        "    i += 1\n",
        "plt.show()"
      ]
    },
    {
      "cell_type": "markdown",
      "metadata": {
        "id": "XFm5TgD8H2JJ"
      },
      "source": [
        "## Preprocessing"
      ]
    },
    {
      "cell_type": "code",
      "execution_count": null,
      "metadata": {
        "id": "prFZxH6hH2JK"
      },
      "outputs": [],
      "source": [
        "from keras.preprocessing.image import ImageDataGenerator\n",
        "from keras.layers import Conv2D,Dense, MaxPooling2D,Flatten,Dropout,Activation, BatchNormalization\n",
        "from tensorflow.keras.optimizers import Adam,RMSprop,SGD\n",
        "from keras import regularizers\n",
        "from keras.callbacks import ModelCheckpoint, CSVLogger,TensorBoard,EarlyStopping,ReduceLROnPlateau\n",
        "import datetime\n",
        "from tensorflow.keras.utils import plot_model"
      ]
    },
    {
      "cell_type": "code",
      "execution_count": null,
      "metadata": {
        "colab": {
          "base_uri": "https://localhost:8080/"
        },
        "id": "cwwWOJtUH2JK",
        "outputId": "d7363eeb-29fc-4f7e-a0ed-591fa8143848"
      },
      "outputs": [
        {
          "name": "stdout",
          "output_type": "stream",
          "text": [
            "Found 28709 images belonging to 7 classes.\n",
            "Found 7178 images belonging to 7 classes.\n"
          ]
        }
      ],
      "source": [
        "train_datagen = ImageDataGenerator(rescale=1/255,\n",
        "                                    zoom_range=0.3, \n",
        "                                    horizontal_flip=True)\n",
        "# rotation_range=40,\n",
        "#         width_shift_range=0.2,\n",
        "#         height_shift_range=0.2,\n",
        "#         shear_range=0.2,\n",
        "#         zoom_range=0.2,\n",
        "#         horizontal_flip=True,\n",
        "#         fill_mode='nearest'\n",
        "\n",
        "train_set=train_datagen.flow_from_directory(train_dir,\n",
        "                                            batch_size=64,\n",
        "                                            target_size=(48,48),\n",
        "                                            shuffle=True,\n",
        "                                            color_mode=\"grayscale\",class_mode='categorical')\n",
        "\n",
        "\n",
        "\n",
        "test_datagen = ImageDataGenerator(rescale=1./255)\n",
        "test_set = test_datagen.flow_from_directory(test_dir,\n",
        "                                            batch_size=64,\n",
        "                                            target_size=(48,48),\n",
        "                                            shuffle=True,\n",
        "                                            color_mode=\"grayscale\",class_mode='categorical')"
      ]
    },
    {
      "cell_type": "code",
      "execution_count": null,
      "metadata": {
        "colab": {
          "base_uri": "https://localhost:8080/"
        },
        "id": "ev8PnmUCH2JL",
        "outputId": "75d425fe-7f55-4574-8363-075c142ff52d"
      },
      "outputs": [
        {
          "data": {
            "text/plain": [
              "{'angry': 0,\n",
              " 'disgust': 1,\n",
              " 'fear': 2,\n",
              " 'happy': 3,\n",
              " 'neutral': 4,\n",
              " 'sad': 5,\n",
              " 'surprise': 6}"
            ]
          },
          "execution_count": 20,
          "metadata": {},
          "output_type": "execute_result"
        }
      ],
      "source": [
        "train_set.class_indices"
      ]
    },
    {
      "cell_type": "markdown",
      "metadata": {
        "id": "W_YHV2fHH2JL"
      },
      "source": [
        "## MODEL-BUILDING"
      ]
    },
    {
      "cell_type": "code",
      "execution_count": null,
      "metadata": {
        "id": "jdFWrJhVH2JL"
      },
      "outputs": [],
      "source": [
        "#initalising the CNN model\n",
        "\n",
        "def get_model(input_size, classes=7):\n",
        "     #BUILDING the CNN\n",
        "    model = tf.keras.models.Sequential()   \n",
        "\n",
        "    model.add(Conv2D(32, kernel_size=(3, 3), padding='same', activation='relu', input_shape =input_size))\n",
        "    model.add(Conv2D(64, kernel_size=(3, 3), activation='relu', padding='same'))\n",
        "    model.add(BatchNormalization())\n",
        "    model.add(MaxPooling2D(2, 2))\n",
        "    model.add(Dropout(0.25))\n",
        "\n",
        "    model.add(Conv2D(128, kernel_size=(3, 3), activation='relu', padding='same', kernel_regularizer=regularizers.l2(0.01)))\n",
        "    model.add(Conv2D(256, kernel_size=(3, 3), activation='relu', kernel_regularizer=regularizers.l2(0.01)))\n",
        "    model.add(BatchNormalization())\n",
        "    model.add(MaxPooling2D(pool_size=(2, 2)))\n",
        "    model.add(Dropout(0.25))\n",
        "\n",
        "    model.add(Flatten())\n",
        "    model.add(Dense(1024, activation='relu'))\n",
        "    model.add(Dropout(0.5))\n",
        "    \n",
        "    model.add(Dense(classes, activation='softmax'))\n",
        "\n",
        "    #COMPLILING the CNN\n",
        "    model.compile(optimizer=Adam(learning_rate=0.0001, decay=1e-6), \n",
        "                  loss='categorical_crossentropy', \n",
        "                  metrics=['accuracy'])\n",
        "    return model"
      ]
    },
    {
      "cell_type": "code",
      "execution_count": null,
      "metadata": {
        "colab": {
          "base_uri": "https://localhost:8080/"
        },
        "id": "dXoqZbHDH2JM",
        "outputId": "b2fcbc5d-6365-4ba6-92cd-eb7d3fb02c23"
      },
      "outputs": [
        {
          "name": "stdout",
          "output_type": "stream",
          "text": [
            "Model: \"sequential\"\n",
            "_________________________________________________________________\n",
            " Layer (type)                Output Shape              Param #   \n",
            "=================================================================\n",
            " conv2d (Conv2D)             (None, 48, 48, 32)        320       \n",
            "                                                                 \n",
            " conv2d_1 (Conv2D)           (None, 48, 48, 64)        18496     \n",
            "                                                                 \n",
            " batch_normalization (BatchN  (None, 48, 48, 64)       256       \n",
            " ormalization)                                                   \n",
            "                                                                 \n",
            " max_pooling2d (MaxPooling2D  (None, 24, 24, 64)       0         \n",
            " )                                                               \n",
            "                                                                 \n",
            " dropout (Dropout)           (None, 24, 24, 64)        0         \n",
            "                                                                 \n",
            " conv2d_2 (Conv2D)           (None, 24, 24, 128)       73856     \n",
            "                                                                 \n",
            " conv2d_3 (Conv2D)           (None, 22, 22, 256)       295168    \n",
            "                                                                 \n",
            " batch_normalization_1 (Batc  (None, 22, 22, 256)      1024      \n",
            " hNormalization)                                                 \n",
            "                                                                 \n",
            " max_pooling2d_1 (MaxPooling  (None, 11, 11, 256)      0         \n",
            " 2D)                                                             \n",
            "                                                                 \n",
            " dropout_1 (Dropout)         (None, 11, 11, 256)       0         \n",
            "                                                                 \n",
            " flatten (Flatten)           (None, 30976)             0         \n",
            "                                                                 \n",
            " dense (Dense)               (None, 1024)              31720448  \n",
            "                                                                 \n",
            " dropout_2 (Dropout)         (None, 1024)              0         \n",
            "                                                                 \n",
            " dense_1 (Dense)             (None, 7)                 7175      \n",
            "                                                                 \n",
            "=================================================================\n",
            "Total params: 32,116,743\n",
            "Trainable params: 32,116,103\n",
            "Non-trainable params: 640\n",
            "_________________________________________________________________\n"
          ]
        }
      ],
      "source": [
        "our_model = get_model((row,col,1),classes)\n",
        "our_model.summary()"
      ]
    },
    {
      "cell_type": "code",
      "execution_count": null,
      "metadata": {
        "id": "mALQCMD9H2JM"
      },
      "outputs": [],
      "source": [
        "# plot_model(our_model,to_file='Our Model Architecture.png',show_shapes=True,show_layer_names=True)"
      ]
    },
    {
      "cell_type": "code",
      "execution_count": null,
      "metadata": {
        "colab": {
          "background_save": true,
          "base_uri": "https://localhost:8080/"
        },
        "id": "kDkE2B0UH2JM",
        "outputId": "faa1adcc-8d71-44ad-a56e-b78cb877cb93"
      },
      "outputs": [
        {
          "name": "stdout",
          "output_type": "stream",
          "text": [
            "Epoch 1/60\n",
            "217/448 [=============>................] - ETA: 10:01 - loss: 4.5843 - accuracy: 0.2524"
          ]
        }
      ],
      "source": [
        "\n",
        "steps_per_epoch = train_set.n // train_set.batch_size\n",
        "validation_steps = test_set.n // test_set.batch_size\n",
        "\n",
        "mod = our_model.fit(x=train_set,\n",
        "                 validation_data=test_set,\n",
        "                 epochs=60,\n",
        "                 steps_per_epoch=steps_per_epoch,\n",
        "                 validation_steps=validation_steps)\n",
        "\n"
      ]
    },
    {
      "cell_type": "code",
      "execution_count": null,
      "metadata": {
        "id": "9IrwlNeFH2JM"
      },
      "outputs": [],
      "source": [
        "# model_json=our_model.to_json()\n",
        "# with open(\"model.json\",\"w\") as json_file:\n",
        "#     json_file.write(model_json)"
      ]
    },
    {
      "cell_type": "code",
      "execution_count": null,
      "metadata": {
        "id": "_3BHSDSaH2JN"
      },
      "outputs": [],
      "source": [
        "our_model.save('/content/drive/MyDrive/FERMODELS/modelfer.h5')"
      ]
    },
    {
      "cell_type": "code",
      "execution_count": null,
      "metadata": {
        "id": "3o9-cEJP8ODI"
      },
      "outputs": [],
      "source": [
        "from google.colab import drive\n",
        "drive.mount('/content/drive')"
      ]
    },
    {
      "cell_type": "code",
      "execution_count": null,
      "metadata": {
        "id": "RYIVn69N6gqM"
      },
      "outputs": [],
      "source": [
        "def displaylabel(model):\n",
        "  path= '/content/drive/MyDrive/FerTest/'\n",
        "  import numpy as np\n",
        "  from google.colab import files\n",
        "  import cv2\n",
        "  from PIL import Image, ImageOps\n",
        "  \n",
        "  # from keras.preprocessing import image\n",
        "\n",
        "\n",
        "  p=os.listdir(path)\n",
        "  for fn in p:\n",
        " \n",
        "  # predicting images\n",
        "    path1 = path + fn\n",
        "    img = keras.preprocessing.image.load_img(path1,target_size=(48,48))\n",
        "    img=ImageOps.grayscale(img)\n",
        "    plt.imshow(img,cmap='gray')\n",
        "    # img=cv2.imread(path1)\n",
        "    print(img)\n",
        "    # img=cv2.cvtColor(img, cv2.COLOR_RGB2GRAY)\n",
        "    \n",
        "    img = np.expand_dims(img,0)\n",
        "    \n",
        "    expression = model.predict(img)\n",
        "    # plt.title(expression)\n",
        "    print('This image belongs to class {np.where(expression==1)}')\n",
        "  return 0"
      ]
    },
    {
      "cell_type": "code",
      "execution_count": null,
      "metadata": {
        "id": "r32aBElgHj0D"
      },
      "outputs": [],
      "source": [
        "from keras.models import load_model\n",
        "modle=load_model('/content/modelfer.h5')\n",
        "displaylabel(modle)"
      ]
    },
    {
      "cell_type": "markdown",
      "metadata": {
        "id": "rQbx5p7ZH2JN"
      },
      "source": [
        "### PERFORMANCE PLOT"
      ]
    },
    {
      "cell_type": "code",
      "execution_count": null,
      "metadata": {
        "id": "zQdUQSD1H2JN"
      },
      "outputs": [],
      "source": [
        "plt.figure(figsize=(14,5))\n",
        "plt.subplot(1,2,2)\n",
        "plt.plot(mod.history['accuracy'])\n",
        "plt.plot(mod.history['val_accuracy'])\n",
        "plt.title('Model Accuracy')\n",
        "plt.xlabel('Epochs')\n",
        "plt.ylabel('Accuracy')\n",
        "plt.legend(['train', 'test'], loc='upper left')\n",
        "\n",
        "plt.subplot(1,2,1)\n",
        "plt.plot(mod.history['loss'])\n",
        "plt.plot(mod.history['val_loss'])\n",
        "plt.title('model Loss')\n",
        "plt.xlabel('Epochs')\n",
        "plt.ylabel('Loss')\n",
        "plt.legend(['train', 'test'], loc='upper left')\n",
        "plt.show()"
      ]
    },
    {
      "cell_type": "code",
      "execution_count": null,
      "metadata": {
        "id": "a9lt7uU6H2JN"
      },
      "outputs": [],
      "source": [
        "train_loss, train_accu = our_model.evaluate(train_set)\n",
        "test_loss, test_accu = our_model.evaluate(test_set)\n",
        "print(\"final train accuracy = {:.2f} , validation accuracy = {:.2f}\".format(train_accu*100, test_accu*100))"
      ]
    },
    {
      "cell_type": "code",
      "execution_count": null,
      "metadata": {
        "id": "1Fq_gk2CH2JO"
      },
      "outputs": [],
      "source": [
        "#ON TRAINING SET\n",
        "y_pred = our_model.predict(train_set)\n",
        "y_pred = np.argmax(y_pred, axis=1)\n",
        "class_labels = test_set.class_indices\n",
        "class_labels = {v:k for k,v in class_labels.items()}\n",
        "\n",
        "from sklearn.metrics import classification_report, confusion_matrix\n",
        "cm_train = confusion_matrix(train_set.classes, y_pred)\n",
        "print('Confusion Matrix')\n",
        "print(cm_train)\n",
        "print('Classification Report')\n",
        "target_names = list(class_labels.values())\n",
        "print(classification_report(train_set.classes, y_pred, target_names=target_names))\n",
        "\n",
        "plt.figure(figsize=(8,8))\n",
        "plt.imshow(cm_train, interpolation='nearest')\n",
        "plt.colorbar()\n",
        "tick_mark = np.arange(len(target_names))\n",
        "_ = plt.xticks(tick_mark, target_names, rotation=90)\n",
        "_ = plt.yticks(tick_mark, target_names)"
      ]
    },
    {
      "cell_type": "code",
      "execution_count": null,
      "metadata": {
        "id": "M7OWx_5wH2JO"
      },
      "outputs": [],
      "source": [
        "#ON TESTING SET\n",
        "y_pred = our_model.predict(test_set)\n",
        "y_pred = np.argmax(y_pred, axis=1)\n",
        "class_labels = test_set.class_indices\n",
        "class_labels = {v:k for k,v in class_labels.items()}\n",
        "\n",
        "#from sklearn.metrics import classification_report, confusion_matrix\n",
        "cm_test = confusion_matrix(test_set.classes, y_pred)\n",
        "print('Confusion Matrix')\n",
        "print(cm_test)\n",
        "print('Classification Report')\n",
        "target_names = list(class_labels.values())\n",
        "print(classification_report(test_set.classes, y_pred, target_names=target_names))\n",
        "\n",
        "plt.figure(figsize=(8,8))\n",
        "plt.imshow(cm_test, interpolation='nearest')\n",
        "plt.colorbar()\n",
        "tick_mark = np.arange(len(target_names))\n",
        "_ = plt.xticks(tick_mark, target_names, rotation=90)\n",
        "_ = plt.yticks(tick_mark, target_names)"
      ]
    },
    {
      "cell_type": "code",
      "execution_count": null,
      "metadata": {
        "id": "onKDPhidH2JO"
      },
      "outputs": [],
      "source": [
        ""
      ]
    }
  ],
  "metadata": {
    "accelerator": "GPU",
    "colab": {
      "collapsed_sections": [],
      "name": "FER.ipynb",
      "provenance": [],
      "include_colab_link": true
    },
    "gpuClass": "standard",
    "kernelspec": {
      "display_name": "Python 3",
      "language": "python",
      "name": "python3"
    },
    "language_info": {
      "codemirror_mode": {
        "name": "ipython",
        "version": 3
      },
      "file_extension": ".py",
      "mimetype": "text/x-python",
      "name": "python",
      "nbconvert_exporter": "python",
      "pygments_lexer": "ipython3",
      "version": "3.6.4"
    }
  },
  "nbformat": 4,
  "nbformat_minor": 0
}